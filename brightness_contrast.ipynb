{
 "cells": [
  {
   "cell_type": "code",
   "execution_count": 1,
   "id": "88f5ef83",
   "metadata": {},
   "outputs": [
    {
     "name": "stdout",
     "output_type": "stream",
     "text": [
      "Enter contrast value (0-255): 200\n",
      "Enter brightness value (-255 to 255): 150\n"
     ]
    }
   ],
   "source": [
    "import cv2\n",
    "\n",
    "# Read an image file\n",
    "img = cv2.imread(\"T1.jpg\")\n",
    "\n",
    "contrast = int(input(\"Enter contrast value (0-255): \"))\n",
    "brightness = int(input(\"Enter brightness value (-255 to 255): \"))\n",
    "\n",
    "new_img = cv2.addWeighted(img, contrast/127, img, 0, brightness - 127)\n",
    "\n",
    "cv2.imshow(\"Original Image\", img)\n",
    "cv2.imshow(\"Modified Image\", new_img)\n",
    "\n",
    "cv2.waitKey(0)\n",
    "\n",
    "cv2.destroyAllWindows()"
   ]
  },
  {
   "cell_type": "code",
   "execution_count": null,
   "id": "1d4ca164",
   "metadata": {},
   "outputs": [],
   "source": []
  }
 ],
 "metadata": {
  "kernelspec": {
   "display_name": "Python 3 (ipykernel)",
   "language": "python",
   "name": "python3"
  },
  "language_info": {
   "codemirror_mode": {
    "name": "ipython",
    "version": 3
   },
   "file_extension": ".py",
   "mimetype": "text/x-python",
   "name": "python",
   "nbconvert_exporter": "python",
   "pygments_lexer": "ipython3",
   "version": "3.9.7"
  }
 },
 "nbformat": 4,
 "nbformat_minor": 5
}
